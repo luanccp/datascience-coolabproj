{
  "nbformat": 4,
  "nbformat_minor": 0,
  "metadata": {
    "colab": {
      "name": "TEIA09 - SciKit Learn - MLP.ipynb",
      "version": "0.3.2",
      "provenance": [],
      "include_colab_link": true
    },
    "kernelspec": {
      "name": "python3",
      "display_name": "Python 3"
    },
    "accelerator": "GPU"
  },
  "cells": [
    {
      "cell_type": "markdown",
      "metadata": {
        "id": "view-in-github",
        "colab_type": "text"
      },
      "source": [
        "<a href=\"https://colab.research.google.com/github/luanccp/datascience-coolabproj/blob/master/TEIA09_SciKit_Learn_MLP.ipynb\" target=\"_parent\"><img src=\"https://colab.research.google.com/assets/colab-badge.svg\" alt=\"Open In Colab\"/></a>"
      ]
    },
    {
      "metadata": {
        "id": "LpN-ZlbWXI_Z",
        "colab_type": "text"
      },
      "cell_type": "markdown",
      "source": [
        "# Neural Networks with Python and SciKit Learn"
      ]
    },
    {
      "metadata": {
        "id": "mz0jHuYpxQii",
        "colab_type": "text"
      },
      "cell_type": "markdown",
      "source": [
        "### Este notebook descreve a criação de uma rede neural em Python usando o Scikit-learn, cuja versão mais recente agora inclui suporte para modelos de Rede Neural.\n",
        "\n",
        "### Este notebook foi adaptado do link: https://www.kdnuggets.com/2016/10/beginners-guide-neural-networks-python-scikit-learn.html"
      ]
    },
    {
      "metadata": {
        "id": "_qSMdYETxZIO",
        "colab_type": "text"
      },
      "cell_type": "markdown",
      "source": [
        "## SciKit - Learn"
      ]
    },
    {
      "metadata": {
        "id": "b7HY2SOFws1m",
        "colab_type": "text"
      },
      "cell_type": "markdown",
      "source": [
        "### Para acompanhar este tutorial, você precisará ter a última versão do SciKit Learn instalada ou de sua execução via Google Colab.\n",
        "\n",
        "### É facilmente instalável através de pip ou conda, mas você pode consultar a documentação oficial de instalação para obter detalhes completos sobre isso.\n",
        "\n",
        "### Link: http://scikit-learn.org/stable/install.html"
      ]
    },
    {
      "metadata": {
        "id": "ncv0m79NwwMy",
        "colab_type": "text"
      },
      "cell_type": "markdown",
      "source": [
        "## Data"
      ]
    },
    {
      "metadata": {
        "id": "S-TSOhVcw4kK",
        "colab_type": "text"
      },
      "cell_type": "markdown",
      "source": [
        "### Usaremos o Conjunto de Dados de Câncer de Mama do SciKit Learn, que possui vários recursos de tumores com uma classe rotulada, indicando se o tumor era maligno ou benigno. Vamos tentar criar um modelo de rede neural capaz de detectar essas características e tentar prever rótulos malignos ou benignos para tumores que ele não tenha visto antes. Vamos em frente e comece pegando os dados!"
      ]
    },
    {
      "metadata": {
        "id": "lz_gfwd_t3Yj",
        "colab_type": "code",
        "colab": {}
      },
      "cell_type": "code",
      "source": [
        "from sklearn.datasets import load_breast_cancer\n",
        "cancer = load_breast_cancer()"
      ],
      "execution_count": 0,
      "outputs": []
    },
    {
      "metadata": {
        "id": "BZTbRHOyt0Me",
        "colab_type": "text"
      },
      "cell_type": "markdown",
      "source": [
        "### Este objeto é como um dicionário, contém uma descrição dos dados e dos recursos e destinos:"
      ]
    },
    {
      "metadata": {
        "id": "of4tyiURWvNz",
        "colab_type": "code",
        "colab": {
          "base_uri": "https://localhost:8080/",
          "height": 34
        },
        "outputId": "596e21d9-114f-42eb-d79e-d2e48378bd7e"
      },
      "cell_type": "code",
      "source": [
        "cancer.keys()"
      ],
      "execution_count": 2,
      "outputs": [
        {
          "output_type": "execute_result",
          "data": {
            "text/plain": [
              "dict_keys(['data', 'target', 'target_names', 'DESCR', 'feature_names'])"
            ]
          },
          "metadata": {
            "tags": []
          },
          "execution_count": 2
        }
      ]
    },
    {
      "metadata": {
        "id": "W1SqiGngylKG",
        "colab_type": "code",
        "colab": {
          "base_uri": "https://localhost:8080/",
          "height": 2023
        },
        "outputId": "11c7507f-5e59-4999-e80f-5c8ce49cf56e"
      },
      "cell_type": "code",
      "source": [
        "# Para imprimir a descricao completa do dataset:\n",
        "print(cancer['DESCR'])"
      ],
      "execution_count": 3,
      "outputs": [
        {
          "output_type": "stream",
          "text": [
            "Breast Cancer Wisconsin (Diagnostic) Database\n",
            "=============================================\n",
            "\n",
            "Notes\n",
            "-----\n",
            "Data Set Characteristics:\n",
            "    :Number of Instances: 569\n",
            "\n",
            "    :Number of Attributes: 30 numeric, predictive attributes and the class\n",
            "\n",
            "    :Attribute Information:\n",
            "        - radius (mean of distances from center to points on the perimeter)\n",
            "        - texture (standard deviation of gray-scale values)\n",
            "        - perimeter\n",
            "        - area\n",
            "        - smoothness (local variation in radius lengths)\n",
            "        - compactness (perimeter^2 / area - 1.0)\n",
            "        - concavity (severity of concave portions of the contour)\n",
            "        - concave points (number of concave portions of the contour)\n",
            "        - symmetry \n",
            "        - fractal dimension (\"coastline approximation\" - 1)\n",
            "\n",
            "        The mean, standard error, and \"worst\" or largest (mean of the three\n",
            "        largest values) of these features were computed for each image,\n",
            "        resulting in 30 features.  For instance, field 3 is Mean Radius, field\n",
            "        13 is Radius SE, field 23 is Worst Radius.\n",
            "\n",
            "        - class:\n",
            "                - WDBC-Malignant\n",
            "                - WDBC-Benign\n",
            "\n",
            "    :Summary Statistics:\n",
            "\n",
            "    ===================================== ====== ======\n",
            "                                           Min    Max\n",
            "    ===================================== ====== ======\n",
            "    radius (mean):                        6.981  28.11\n",
            "    texture (mean):                       9.71   39.28\n",
            "    perimeter (mean):                     43.79  188.5\n",
            "    area (mean):                          143.5  2501.0\n",
            "    smoothness (mean):                    0.053  0.163\n",
            "    compactness (mean):                   0.019  0.345\n",
            "    concavity (mean):                     0.0    0.427\n",
            "    concave points (mean):                0.0    0.201\n",
            "    symmetry (mean):                      0.106  0.304\n",
            "    fractal dimension (mean):             0.05   0.097\n",
            "    radius (standard error):              0.112  2.873\n",
            "    texture (standard error):             0.36   4.885\n",
            "    perimeter (standard error):           0.757  21.98\n",
            "    area (standard error):                6.802  542.2\n",
            "    smoothness (standard error):          0.002  0.031\n",
            "    compactness (standard error):         0.002  0.135\n",
            "    concavity (standard error):           0.0    0.396\n",
            "    concave points (standard error):      0.0    0.053\n",
            "    symmetry (standard error):            0.008  0.079\n",
            "    fractal dimension (standard error):   0.001  0.03\n",
            "    radius (worst):                       7.93   36.04\n",
            "    texture (worst):                      12.02  49.54\n",
            "    perimeter (worst):                    50.41  251.2\n",
            "    area (worst):                         185.2  4254.0\n",
            "    smoothness (worst):                   0.071  0.223\n",
            "    compactness (worst):                  0.027  1.058\n",
            "    concavity (worst):                    0.0    1.252\n",
            "    concave points (worst):               0.0    0.291\n",
            "    symmetry (worst):                     0.156  0.664\n",
            "    fractal dimension (worst):            0.055  0.208\n",
            "    ===================================== ====== ======\n",
            "\n",
            "    :Missing Attribute Values: None\n",
            "\n",
            "    :Class Distribution: 212 - Malignant, 357 - Benign\n",
            "\n",
            "    :Creator:  Dr. William H. Wolberg, W. Nick Street, Olvi L. Mangasarian\n",
            "\n",
            "    :Donor: Nick Street\n",
            "\n",
            "    :Date: November, 1995\n",
            "\n",
            "This is a copy of UCI ML Breast Cancer Wisconsin (Diagnostic) datasets.\n",
            "https://goo.gl/U2Uwz2\n",
            "\n",
            "Features are computed from a digitized image of a fine needle\n",
            "aspirate (FNA) of a breast mass.  They describe\n",
            "characteristics of the cell nuclei present in the image.\n",
            "\n",
            "Separating plane described above was obtained using\n",
            "Multisurface Method-Tree (MSM-T) [K. P. Bennett, \"Decision Tree\n",
            "Construction Via Linear Programming.\" Proceedings of the 4th\n",
            "Midwest Artificial Intelligence and Cognitive Science Society,\n",
            "pp. 97-101, 1992], a classification method which uses linear\n",
            "programming to construct a decision tree.  Relevant features\n",
            "were selected using an exhaustive search in the space of 1-4\n",
            "features and 1-3 separating planes.\n",
            "\n",
            "The actual linear program used to obtain the separating plane\n",
            "in the 3-dimensional space is that described in:\n",
            "[K. P. Bennett and O. L. Mangasarian: \"Robust Linear\n",
            "Programming Discrimination of Two Linearly Inseparable Sets\",\n",
            "Optimization Methods and Software 1, 1992, 23-34].\n",
            "\n",
            "This database is also available through the UW CS ftp server:\n",
            "\n",
            "ftp ftp.cs.wisc.edu\n",
            "cd math-prog/cpo-dataset/machine-learn/WDBC/\n",
            "\n",
            "References\n",
            "----------\n",
            "   - W.N. Street, W.H. Wolberg and O.L. Mangasarian. Nuclear feature extraction \n",
            "     for breast tumor diagnosis. IS&T/SPIE 1993 International Symposium on \n",
            "     Electronic Imaging: Science and Technology, volume 1905, pages 861-870,\n",
            "     San Jose, CA, 1993.\n",
            "   - O.L. Mangasarian, W.N. Street and W.H. Wolberg. Breast cancer diagnosis and \n",
            "     prognosis via linear programming. Operations Research, 43(4), pages 570-577, \n",
            "     July-August 1995.\n",
            "   - W.H. Wolberg, W.N. Street, and O.L. Mangasarian. Machine learning techniques\n",
            "     to diagnose breast cancer from fine-needle aspirates. Cancer Letters 77 (1994) \n",
            "     163-171.\n",
            "\n"
          ],
          "name": "stdout"
        }
      ]
    },
    {
      "metadata": {
        "id": "9LWgE_CduEQS",
        "colab_type": "code",
        "colab": {
          "base_uri": "https://localhost:8080/",
          "height": 34
        },
        "outputId": "58a0f587-f52f-4218-819e-793b6e30e464"
      },
      "cell_type": "code",
      "source": [
        "\n",
        "# 569 data points with 30 features\n",
        "cancer['data'].shape"
      ],
      "execution_count": 4,
      "outputs": [
        {
          "output_type": "execute_result",
          "data": {
            "text/plain": [
              "(569, 30)"
            ]
          },
          "metadata": {
            "tags": []
          },
          "execution_count": 4
        }
      ]
    },
    {
      "metadata": {
        "id": "ssuh2x4AuKd1",
        "colab_type": "text"
      },
      "cell_type": "markdown",
      "source": [
        "### Vamos configurar seus dados e nossos rótulos:"
      ]
    },
    {
      "metadata": {
        "id": "j-expQkouNT2",
        "colab_type": "code",
        "colab": {}
      },
      "cell_type": "code",
      "source": [
        "X = cancer['data']\n",
        "y = cancer['target']"
      ],
      "execution_count": 0,
      "outputs": []
    },
    {
      "metadata": {
        "id": "LtvIDOmLuTi9",
        "colab_type": "text"
      },
      "cell_type": "markdown",
      "source": [
        "## Divisão do Dataset em Treinamento e Teste"
      ]
    },
    {
      "metadata": {
        "id": "ryXaFanEue9r",
        "colab_type": "text"
      },
      "cell_type": "markdown",
      "source": [
        "### Vamos dividir nossos dados em conjuntos de treinamento e testes, isso é feito facilmente com a função train_test_split do SciKit Learn da model_selection:"
      ]
    },
    {
      "metadata": {
        "id": "MMUeCp7UuicV",
        "colab_type": "code",
        "colab": {}
      },
      "cell_type": "code",
      "source": [
        "from sklearn.model_selection import train_test_split\n",
        "X_train, X_test, y_train, y_test = train_test_split(X, y)"
      ],
      "execution_count": 0,
      "outputs": []
    },
    {
      "metadata": {
        "id": "6IFOt9QbZvTG",
        "colab_type": "code",
        "colab": {
          "base_uri": "https://localhost:8080/",
          "height": 34
        },
        "outputId": "003c9019-0607-4c1e-874a-2292cf51b61e"
      },
      "cell_type": "code",
      "source": [
        "X_train.shape"
      ],
      "execution_count": 7,
      "outputs": [
        {
          "output_type": "execute_result",
          "data": {
            "text/plain": [
              "(426, 30)"
            ]
          },
          "metadata": {
            "tags": []
          },
          "execution_count": 7
        }
      ]
    },
    {
      "metadata": {
        "id": "d8_XR7hLZv59",
        "colab_type": "code",
        "colab": {
          "base_uri": "https://localhost:8080/",
          "height": 34
        },
        "outputId": "3687350d-c75f-4e98-eaa4-5bba4ba20dd0"
      },
      "cell_type": "code",
      "source": [
        "X_test.shape"
      ],
      "execution_count": 8,
      "outputs": [
        {
          "output_type": "execute_result",
          "data": {
            "text/plain": [
              "(143, 30)"
            ]
          },
          "metadata": {
            "tags": []
          },
          "execution_count": 8
        }
      ]
    },
    {
      "metadata": {
        "id": "WVIHmKYmuqJV",
        "colab_type": "text"
      },
      "cell_type": "markdown",
      "source": [
        "## Pré-processamento dos Dados"
      ]
    },
    {
      "metadata": {
        "id": "mUF_r1xwutAZ",
        "colab_type": "text"
      },
      "cell_type": "markdown",
      "source": [
        "### A rede neural pode ter dificuldade em convergir antes do número máximo de iterações permitidas, se os dados não forem normalizados. O Perceptron multicamadas é sensível ao dimensionamento de recursos, por isso é altamente recomendado dimensionar seus dados. Observe que você deve aplicar o mesmo dimensionamento ao conjunto de testes para resultados significativos. Existem muitos métodos diferentes para normalização de dados, usaremos o StandardScaler incorporado para padronização."
      ]
    },
    {
      "metadata": {
        "id": "OmaILxCouxm1",
        "colab_type": "code",
        "colab": {
          "base_uri": "https://localhost:8080/",
          "height": 34
        },
        "outputId": "31aa59ee-5212-4b7f-eb05-c8cffe0923e6"
      },
      "cell_type": "code",
      "source": [
        "from sklearn.preprocessing import StandardScaler\n",
        "scaler = StandardScaler()\n",
        "# Fit only to the training data\n",
        "scaler.fit(X_train)"
      ],
      "execution_count": 10,
      "outputs": [
        {
          "output_type": "execute_result",
          "data": {
            "text/plain": [
              "StandardScaler(copy=True, with_mean=True, with_std=True)"
            ]
          },
          "metadata": {
            "tags": []
          },
          "execution_count": 10
        }
      ]
    },
    {
      "metadata": {
        "id": "BTvUtOzYZkCC",
        "colab_type": "code",
        "colab": {}
      },
      "cell_type": "code",
      "source": [
        "# Now apply the transformations to the data:\n",
        "X_train = scaler.transform(X_train)\n",
        "X_test = scaler.transform(X_test)"
      ],
      "execution_count": 0,
      "outputs": []
    },
    {
      "metadata": {
        "id": "Cp7kp-dou8bm",
        "colab_type": "text"
      },
      "cell_type": "markdown",
      "source": [
        "# Modelo de Treinamento"
      ]
    },
    {
      "metadata": {
        "id": "uGGYoJVou93y",
        "colab_type": "text"
      },
      "cell_type": "markdown",
      "source": [
        "###Agora é hora de treinar nosso modelo. O SciKit Learn torna isso incrivelmente fácil, usando objetos estimadores. Neste caso, vamos importar nosso estimador (o modelo Multi-Layer Perceptron Classifier) ​​da biblioteca neural_network do SciKit-Learn!"
      ]
    },
    {
      "metadata": {
        "id": "YX_kaQ3svBXn",
        "colab_type": "code",
        "colab": {}
      },
      "cell_type": "code",
      "source": [
        "\n",
        "from sklearn.neural_network import MLPClassifier"
      ],
      "execution_count": 0,
      "outputs": []
    },
    {
      "metadata": {
        "id": "La5pSAv6vICD",
        "colab_type": "text"
      },
      "cell_type": "markdown",
      "source": [
        "### Em seguida, criamos uma instância do modelo. Há muitos parâmetros que você pode escolher para definir e personalizar. Como um primeiro exemplo, definiremos apenas os hidden_layer_sizes.\n",
        "\n",
        "### Para este parâmetro, você passa em uma tupla que consiste no número de neurônios que você quer em cada camada, onde a enésima entrada na tupla representa o número de neurônios na enésima camada do modelo MLP. \n",
        "\n",
        "### Como visto em nossas aulas, a escolha do número de neurônios em cada camada é uma decisão empírica. Para simplificar, escolheremos três camadas com o mesmo número de neurônios que existem em nosso conjunto de dados:"
      ]
    },
    {
      "metadata": {
        "id": "4oYqjOf1vJm1",
        "colab_type": "code",
        "colab": {}
      },
      "cell_type": "code",
      "source": [
        "mlp = MLPClassifier(hidden_layer_sizes=(30,30,30))"
      ],
      "execution_count": 0,
      "outputs": []
    },
    {
      "metadata": {
        "id": "nehi31pYvPID",
        "colab_type": "text"
      },
      "cell_type": "markdown",
      "source": [
        "### Agora que o modelo foi definido, podemos ajustar os dados de treinamento ao nosso modelo, lembre-se de que esses dados já foram processados e normalizados:"
      ]
    },
    {
      "metadata": {
        "id": "l_yTjFG_vQqg",
        "colab_type": "code",
        "colab": {
          "base_uri": "https://localhost:8080/",
          "height": 136
        },
        "outputId": "e5af4cba-c1b7-4503-ac8d-929d8fe4a977"
      },
      "cell_type": "code",
      "source": [
        "mlp.fit(X_train,y_train)"
      ],
      "execution_count": 14,
      "outputs": [
        {
          "output_type": "execute_result",
          "data": {
            "text/plain": [
              "MLPClassifier(activation='relu', alpha=0.0001, batch_size='auto', beta_1=0.9,\n",
              "       beta_2=0.999, early_stopping=False, epsilon=1e-08,\n",
              "       hidden_layer_sizes=(30, 30, 30), learning_rate='constant',\n",
              "       learning_rate_init=0.001, max_iter=200, momentum=0.9,\n",
              "       nesterovs_momentum=True, power_t=0.5, random_state=None,\n",
              "       shuffle=True, solver='adam', tol=0.0001, validation_fraction=0.1,\n",
              "       verbose=False, warm_start=False)"
            ]
          },
          "metadata": {
            "tags": []
          },
          "execution_count": 14
        }
      ]
    },
    {
      "metadata": {
        "id": "Dcdbu2Z4vVmg",
        "colab_type": "text"
      },
      "cell_type": "markdown",
      "source": [
        "### Você pode ver a saída que mostra os valores padrão dos outros parâmetros no modelo.\n",
        "\n",
        "### Seguiremos o notebook, mas retornaremos neste ponto para testar os efeitos que eles têm no seu modelo."
      ]
    },
    {
      "metadata": {
        "id": "TYoBl5AIvXCM",
        "colab_type": "text"
      },
      "cell_type": "markdown",
      "source": [
        "## Previsão e Avaliação"
      ]
    },
    {
      "metadata": {
        "id": "ilITphhtvZwG",
        "colab_type": "text"
      },
      "cell_type": "markdown",
      "source": [
        "### Agora que temos um modelo, é hora de usá-lo para obter previsões! Podemos fazer isso simplesmente com o método predict() fora do nosso modelo ajustado:"
      ]
    },
    {
      "metadata": {
        "id": "Xep3MGWLvdcY",
        "colab_type": "code",
        "colab": {}
      },
      "cell_type": "code",
      "source": [
        "predictions = mlp.predict(X_test)"
      ],
      "execution_count": 0,
      "outputs": []
    },
    {
      "metadata": {
        "id": "U76VX1vzvhsU",
        "colab_type": "text"
      },
      "cell_type": "markdown",
      "source": [
        "### Agora podemos usar as métricas incorporadas do SciKit-Learn, como um relatório de classificação e uma matriz de confusão para avaliar o desempenho do nosso modelo:"
      ]
    },
    {
      "metadata": {
        "id": "wVCpCh4rvjCw",
        "colab_type": "code",
        "colab": {
          "base_uri": "https://localhost:8080/",
          "height": 51
        },
        "outputId": "b96d92bc-e051-4886-a3b0-a74572ac7359"
      },
      "cell_type": "code",
      "source": [
        "from sklearn.metrics import classification_report,confusion_matrix\n",
        "print(confusion_matrix(y_test,predictions))"
      ],
      "execution_count": 19,
      "outputs": [
        {
          "output_type": "stream",
          "text": [
            "[[53  2]\n",
            " [ 3 85]]\n"
          ],
          "name": "stdout"
        }
      ]
    },
    {
      "metadata": {
        "id": "QgGe9_fjvoXI",
        "colab_type": "code",
        "colab": {
          "base_uri": "https://localhost:8080/",
          "height": 136
        },
        "outputId": "eb9416b3-a4f8-4861-c654-489eceb4edad"
      },
      "cell_type": "code",
      "source": [
        "print(classification_report(y_test,predictions))"
      ],
      "execution_count": 24,
      "outputs": [
        {
          "output_type": "stream",
          "text": [
            "             precision    recall  f1-score   support\n",
            "\n",
            "          0       0.95      0.96      0.95        55\n",
            "          1       0.98      0.97      0.97        88\n",
            "\n",
            "avg / total       0.97      0.97      0.97       143\n",
            "\n"
          ],
          "name": "stdout"
        }
      ]
    },
    {
      "metadata": {
        "id": "Ax86PUdXvrMV",
        "colab_type": "text"
      },
      "cell_type": "markdown",
      "source": [
        "### Para uma matriz de confusão neste formato:\n",
        "### [[49  1]\n",
        "### [ 3 90]]\n",
        "\n",
        "### classificamos erroneamente apenas 4 tumores, deixando-nos com uma taxa de precisão de 97,2%. Isso é muito bom considerando quantas linhas de código tivemos que escrever!\n",
        "\n",
        "### A desvantagem, no entanto, de usar um modelo Preceptron de várias camadas é a dificuldade de interpretar o modelo em si. Os pesos e biases não serão facilmente interpretáveis em relação a quais recursos são importantes para o modelo em si.\n",
        "\n",
        "### No entanto, se você quiser extrair os pesos e vieses do MLP depois de treinar seu modelo, use seus atributos públicos coefs_ e intercepts_.\n",
        "\n",
        "### **coefs_** é uma lista de matrizes de peso, onde matriz de peso no índice i representa os pesos entre a camada i e a camada i + 1.\n",
        "\n",
        "### **intercepts_** é uma lista de vetores de bias, em que o vetor no índice i representa os valores de bias adicionados à camada i + 1."
      ]
    },
    {
      "metadata": {
        "id": "rulh8NEtvyGn",
        "colab_type": "code",
        "colab": {
          "base_uri": "https://localhost:8080/",
          "height": 14084
        },
        "outputId": "22cdbda9-caec-41ed-de9e-b0b81fb5832a"
      },
      "cell_type": "code",
      "source": [
        "mlp.coefs_"
      ],
      "execution_count": 0,
      "outputs": [
        {
          "output_type": "execute_result",
          "data": {
            "text/plain": [
              "[array([[ 0.175328  , -0.13278672, -0.12823009,  0.10465968,  0.05346843,\n",
              "          0.2759497 , -0.23302298,  0.32120463, -0.10401584, -0.08533004,\n",
              "         -0.11468065,  0.02177575,  0.17916408, -0.10678055, -0.23758909,\n",
              "          0.33604498, -0.01761497,  0.28769153, -0.3511732 , -0.05871903,\n",
              "          0.22228222, -0.18278413,  0.15614595, -0.0122904 , -0.03931207,\n",
              "          0.01195713,  0.2929104 ,  0.01834499, -0.14226055, -0.13366467],\n",
              "        [-0.00233582,  0.25988125,  0.10714543, -0.24110006, -0.12413687,\n",
              "          0.29929345, -0.21822292,  0.09977173,  0.22252541,  0.05492002,\n",
              "          0.04091251,  0.2849476 , -0.22696915,  0.27168757,  0.02203899,\n",
              "          0.15629884, -0.23978981,  0.01237874,  0.0980252 , -0.32599077,\n",
              "         -0.210092  ,  0.1920993 , -0.22833031,  0.00156677,  0.21158644,\n",
              "          0.13824258, -0.24508345,  0.02256469,  0.19287418, -0.06396253],\n",
              "        [ 0.01661424,  0.20997168,  0.28423892,  0.05584974, -0.01181456,\n",
              "          0.02047964,  0.12721071,  0.32138174,  0.29114359,  0.27550148,\n",
              "          0.25026183, -0.20468299,  0.02511091,  0.12373226, -0.19887242,\n",
              "         -0.16125491,  0.11697474, -0.25616383, -0.23962429,  0.24050195,\n",
              "         -0.29129224,  0.15718265, -0.12225307, -0.30537083, -0.00751162,\n",
              "         -0.16203749, -0.2365155 , -0.09840126,  0.20295021, -0.27424959],\n",
              "        [-0.17656886, -0.16382435, -0.23702051,  0.27337537,  0.27699574,\n",
              "          0.13148598,  0.14548632,  0.24353411, -0.05549133,  0.18649137,\n",
              "          0.15234379,  0.15255012, -0.08146676, -0.07388525,  0.05717115,\n",
              "         -0.0180113 , -0.12824417, -0.21499938, -0.29013908,  0.03198916,\n",
              "          0.00596135,  0.05543389,  0.03542476,  0.17825204,  0.11178748,\n",
              "         -0.20263513, -0.10948651, -0.0892821 , -0.29188517,  0.08659784],\n",
              "        [ 0.06263863,  0.24121092,  0.28358205, -0.11944638,  0.15399518,\n",
              "         -0.26608151, -0.29797316,  0.17672574,  0.09789472,  0.00346228,\n",
              "          0.22956139, -0.15117361, -0.27979825, -0.0773974 , -0.06042083,\n",
              "         -0.31725868,  0.01678997,  0.14312623,  0.11052481, -0.05547016,\n",
              "          0.00414186, -0.25805501, -0.21337114, -0.257026  , -0.21930758,\n",
              "         -0.1757007 ,  0.14146555,  0.28210336, -0.104854  ,  0.26385766],\n",
              "        [-0.12553731, -0.1521092 ,  0.0015116 ,  0.16158611,  0.18525345,\n",
              "         -0.26153556,  0.09953278,  0.01269666,  0.21213005,  0.00213775,\n",
              "         -0.03864526, -0.25277536, -0.17164446,  0.00480228,  0.04513682,\n",
              "         -0.1569446 , -0.01492936, -0.19389982, -0.10413146, -0.23514194,\n",
              "         -0.0747119 , -0.29053991,  0.15138883, -0.28771367, -0.14670658,\n",
              "          0.22146698, -0.06267102, -0.13129728, -0.08370949, -0.25861166],\n",
              "        [ 0.34975547,  0.0397935 , -0.17582464,  0.01959455, -0.2839181 ,\n",
              "         -0.04464666,  0.17937321,  0.00462028, -0.1806466 ,  0.01334405,\n",
              "          0.05443294, -0.08760473,  0.15212666,  0.10195075, -0.23475353,\n",
              "          0.08151536,  0.25058349,  0.15209174, -0.19539089, -0.21653354,\n",
              "          0.16887106, -0.16838715,  0.0208378 , -0.1814668 ,  0.17173828,\n",
              "          0.05325522, -0.3575522 , -0.16320883, -0.20719246,  0.12275257],\n",
              "        [ 0.32093997,  0.17159827, -0.18143875,  0.3020365 , -0.31776591,\n",
              "         -0.02527933, -0.13780492,  0.30191331, -0.23627719, -0.23100553,\n",
              "          0.19510861,  0.11707945,  0.18868164, -0.05570754, -0.23367654,\n",
              "         -0.28779923,  0.20609832, -0.23514013, -0.32636016,  0.16961092,\n",
              "         -0.06634773, -0.20046373,  0.00507262, -0.18874994, -0.25683947,\n",
              "         -0.0161382 , -0.06482812,  0.20369035,  0.07457658,  0.15991948],\n",
              "        [-0.25968961,  0.00521725,  0.26247481, -0.27563269,  0.19393682,\n",
              "          0.0691401 , -0.27840316,  0.14799091,  0.25907558,  0.01926746,\n",
              "         -0.1340492 , -0.18355962, -0.10247867, -0.21563307,  0.17619278,\n",
              "          0.17474928,  0.129084  ,  0.0926935 ,  0.18937264, -0.09052312,\n",
              "          0.07057946, -0.3107873 , -0.19981005,  0.03246006,  0.25201932,\n",
              "         -0.22326863,  0.27628373, -0.22346224,  0.02374725, -0.1151049 ],\n",
              "        [ 0.18450539, -0.07143968,  0.08092974, -0.31161161,  0.01195313,\n",
              "         -0.07057259, -0.07788405, -0.22058503,  0.0756835 , -0.25193253,\n",
              "          0.04423435,  0.10056308,  0.08999086, -0.04044014,  0.09605502,\n",
              "         -0.03220571, -0.28634629,  0.20109788,  0.18349349,  0.06311924,\n",
              "         -0.24115174, -0.09924363, -0.30232315, -0.15502844, -0.20866242,\n",
              "         -0.1774173 , -0.19789501,  0.10797012,  0.18358588, -0.02693174],\n",
              "        [ 0.32730359,  0.05630302, -0.18288047,  0.09113381,  0.02528434,\n",
              "         -0.0009675 , -0.08063173,  0.1783555 ,  0.08612691,  0.09716047,\n",
              "          0.05940361,  0.23467778, -0.15265533,  0.05410361, -0.34711503,\n",
              "         -0.05748005,  0.07493627, -0.11962601,  0.1325745 , -0.32269028,\n",
              "          0.08629911,  0.15741665, -0.19674264,  0.05790118, -0.031713  ,\n",
              "         -0.09239812,  0.01417019, -0.18734885, -0.14257091, -0.17532563],\n",
              "        [ 0.13328234, -0.09696558, -0.21142287,  0.0197386 ,  0.13814963,\n",
              "          0.00443531, -0.12826742, -0.00735957, -0.22359399, -0.17621018,\n",
              "         -0.03652347, -0.29914929, -0.07858569,  0.29167358, -0.23480432,\n",
              "          0.2231649 ,  0.01026034,  0.08067885,  0.01894224, -0.00647364,\n",
              "          0.21915781, -0.10121284,  0.09956917,  0.2491797 , -0.17496142,\n",
              "          0.25946337,  0.29323852, -0.15435596, -0.29254296,  0.00454223],\n",
              "        [-0.25315405,  0.1197995 , -0.17215539,  0.16623707,  0.19926631,\n",
              "         -0.13379886, -0.02384494, -0.02788894,  0.24734852, -0.14894127,\n",
              "         -0.11060427, -0.27136102,  0.11895786, -0.18223404,  0.28072319,\n",
              "         -0.29466783,  0.32645937,  0.04900749, -0.11365576,  0.01188943,\n",
              "         -0.0490982 , -0.07321788,  0.19200683, -0.18955602, -0.26963834,\n",
              "         -0.25443362, -0.29282038, -0.14822735,  0.24759571, -0.02609935],\n",
              "        [ 0.10796397, -0.08715165,  0.21778764,  0.05430133,  0.24543852,\n",
              "          0.19905669,  0.00047844,  0.2896121 ,  0.01639943,  0.04132214,\n",
              "         -0.11692604,  0.17197723,  0.08629812, -0.0934144 , -0.21713371,\n",
              "          0.05066941,  0.28225431, -0.18421458, -0.28842226,  0.10117082,\n",
              "          0.28452205, -0.28006829, -0.03175344,  0.14277251, -0.18725258,\n",
              "         -0.14401698, -0.03115079, -0.13381588,  0.1780217 ,  0.26018745],\n",
              "        [ 0.15431408, -0.1464638 , -0.00195987, -0.06002245,  0.14710992,\n",
              "         -0.26583992, -0.10792942,  0.03266276,  0.27516873,  0.13976866,\n",
              "         -0.04258648,  0.22046346,  0.11065962,  0.15522781, -0.14622461,\n",
              "          0.01188111,  0.17838258, -0.05219628,  0.12487074,  0.27850674,\n",
              "         -0.27960236, -0.1923349 , -0.18016656, -0.02196253, -0.269631  ,\n",
              "         -0.1570101 , -0.24134698, -0.05473537,  0.00845649, -0.13646276],\n",
              "        [ 0.13497264,  0.1895401 , -0.03381446, -0.09370579,  0.09839948,\n",
              "         -0.01691046,  0.27616894,  0.13246929, -0.06933596, -0.25785891,\n",
              "         -0.27664194, -0.22164833, -0.3513349 , -0.14627909,  0.09661464,\n",
              "         -0.17602874,  0.3101116 ,  0.11944726, -0.31395336, -0.25258711,\n",
              "          0.20524377,  0.03112837,  0.07307569,  0.28912175,  0.03947859,\n",
              "          0.23439722,  0.17663434,  0.17480683, -0.12986395,  0.14644717],\n",
              "        [-0.01278638,  0.23816965,  0.2745042 ,  0.32058811,  0.16419438,\n",
              "         -0.12005861, -0.0583155 , -0.15332176, -0.05958783, -0.11711132,\n",
              "          0.2412056 ,  0.22112005, -0.15757165,  0.13910217,  0.28542709,\n",
              "          0.19101348, -0.12345809, -0.0465766 ,  0.16231964,  0.0681837 ,\n",
              "          0.20858085, -0.00661305, -0.19732532,  0.02625205, -0.01946112,\n",
              "          0.02555968,  0.17934818,  0.21819379,  0.09047389,  0.19327195],\n",
              "        [ 0.0158444 , -0.17154429, -0.14786988,  0.00218005,  0.10111461,\n",
              "          0.09782251,  0.21396252,  0.19482222,  0.23035362, -0.22335454,\n",
              "          0.03539032,  0.17223162, -0.30848862,  0.1535667 , -0.30348423,\n",
              "         -0.01078751,  0.04051783,  0.05157444, -0.11857374,  0.29327693,\n",
              "          0.05270924,  0.0565495 , -0.18218051,  0.02331074, -0.19367082,\n",
              "         -0.20256554, -0.07278567,  0.2578063 , -0.20854079,  0.06890968],\n",
              "        [ 0.14790457,  0.19157482, -0.04944797,  0.06071055,  0.12997582,\n",
              "         -0.23834875, -0.21809996, -0.18932805,  0.03516496, -0.18493496,\n",
              "          0.05883227, -0.11835042,  0.26180129, -0.00276346, -0.05210706,\n",
              "          0.1673486 ,  0.25539734,  0.14031133, -0.14453787, -0.00672012,\n",
              "         -0.31001298, -0.12257305, -0.0184353 , -0.13145572, -0.10204743,\n",
              "         -0.08779872, -0.29340364, -0.00749392,  0.05410396, -0.26844631],\n",
              "        [-0.2274171 ,  0.07601572,  0.11351388, -0.13010129, -0.18949843,\n",
              "         -0.02279088, -0.05766583,  0.15746359, -0.05117101, -0.07440807,\n",
              "          0.24644109, -0.01954717,  0.19430955, -0.12038941,  0.04764909,\n",
              "          0.17203173,  0.12508032, -0.00779606, -0.24359651, -0.27181842,\n",
              "          0.05348134,  0.13995709,  0.20972239,  0.18580445,  0.08008348,\n",
              "         -0.00227777, -0.02026023,  0.32433487, -0.26644775,  0.17191773],\n",
              "        [-0.16324715, -0.16706712,  0.27752237,  0.12104286, -0.0800757 ,\n",
              "         -0.01126349,  0.1052916 ,  0.04342722, -0.05915595, -0.08565189,\n",
              "          0.27761054,  0.11012057, -0.06433647,  0.12401404,  0.25207891,\n",
              "          0.13472155, -0.22362985,  0.14635311,  0.18438485,  0.19686141,\n",
              "         -0.24436097, -0.32969363,  0.12909834, -0.26851508, -0.31038229,\n",
              "          0.07083108,  0.06167105, -0.03536555,  0.05207292,  0.0894304 ],\n",
              "        [ 0.2995087 , -0.22126623, -0.21150681, -0.1975228 ,  0.23567103,\n",
              "         -0.24480997,  0.14745907,  0.07270831,  0.01473197,  0.03413371,\n",
              "         -0.18776853,  0.16593534,  0.07818963,  0.2199525 , -0.26305237,\n",
              "          0.03280223,  0.28719116, -0.19392747, -0.19993546,  0.0733482 ,\n",
              "         -0.29349721, -0.21575459,  0.04424183,  0.22249304, -0.084054  ,\n",
              "          0.14537946, -0.19769329, -0.29549401, -0.12969954, -0.19391297],\n",
              "        [ 0.34842987,  0.08225629,  0.32972967, -0.29149959, -0.06045634,\n",
              "          0.12661848,  0.25950876,  0.03874497,  0.04074338,  0.08827561,\n",
              "          0.01988425, -0.16463495, -0.31917361, -0.09260846,  0.11206961,\n",
              "          0.03485943,  0.02178106, -0.17634558,  0.08200542,  0.27678785,\n",
              "          0.13251397, -0.22786122, -0.25614888,  0.1758844 , -0.21039444,\n",
              "         -0.05212413, -0.22190244,  0.06605895, -0.18757523, -0.13756177],\n",
              "        [-0.11060629,  0.12326215, -0.0163027 ,  0.04790004, -0.23105296,\n",
              "          0.00855717,  0.28579733,  0.04233515,  0.12217235,  0.20672917,\n",
              "          0.16368926, -0.27304613,  0.08884801, -0.10936141, -0.19302333,\n",
              "          0.20520031,  0.19417035,  0.30018929,  0.18754754, -0.13695789,\n",
              "         -0.10783032, -0.15478132,  0.04477106, -0.13026818,  0.13191937,\n",
              "         -0.17835229,  0.22785942, -0.01709638, -0.19600231,  0.14085428],\n",
              "        [-0.27590064, -0.1253116 , -0.25955785,  0.06763718, -0.22793918,\n",
              "          0.21017211,  0.18607748,  0.00162216, -0.17903784,  0.35927129,\n",
              "          0.26621342, -0.03159741, -0.02089977,  0.26864177, -0.20790031,\n",
              "         -0.08527104,  0.30980483, -0.1844527 , -0.22158019, -0.09670492,\n",
              "          0.36379444,  0.03195482,  0.24398721, -0.16188034,  0.14784621,\n",
              "          0.24582853,  0.09507267,  0.04279179, -0.34940086, -0.12403405],\n",
              "        [ 0.02207333,  0.07143407,  0.06914919, -0.06721424,  0.26058534,\n",
              "         -0.05631882, -0.15210461, -0.21000623,  0.2355372 ,  0.12994304,\n",
              "         -0.03140821,  0.252839  , -0.09716056,  0.17333156, -0.15661616,\n",
              "          0.14465905,  0.28924526, -0.03849838, -0.03220525,  0.21165807,\n",
              "         -0.08502806,  0.18337066, -0.30962046, -0.20417984,  0.02951613,\n",
              "         -0.34077513,  0.22866673, -0.05672941, -0.31409575, -0.33333768],\n",
              "        [-0.06691007,  0.08848722,  0.31136693, -0.02280971, -0.00475198,\n",
              "         -0.12577497,  0.10241675,  0.24085236, -0.25149856, -0.15668443,\n",
              "         -0.23887649, -0.08464554, -0.31401312, -0.18956866,  0.11312013,\n",
              "         -0.15287093,  0.32232007, -0.28448045, -0.34865323,  0.08821747,\n",
              "          0.27383083,  0.01767818, -0.16718574, -0.24552402,  0.25885829,\n",
              "         -0.34143691, -0.18844319,  0.17755008, -0.04725236, -0.21345002],\n",
              "        [ 0.10529611, -0.06669147,  0.17214085, -0.0153181 ,  0.18247812,\n",
              "          0.04572731,  0.16242061, -0.13350048,  0.25661007, -0.2675548 ,\n",
              "          0.10018053,  0.33910174, -0.31744151,  0.22576283, -0.24237055,\n",
              "          0.03951406,  0.11284462,  0.1335684 ,  0.12463433,  0.20140243,\n",
              "          0.16994562, -0.15036457, -0.12232062, -0.09841408,  0.02564006,\n",
              "         -0.30319192,  0.08717647, -0.06103605, -0.20417449, -0.07943533],\n",
              "        [ 0.14675627, -0.14758849,  0.25307262,  0.02497823,  0.15908668,\n",
              "          0.35471795, -0.30879533, -0.09809802,  0.23482366, -0.26177342,\n",
              "          0.17290596, -0.2944192 , -0.0750945 ,  0.0031425 ,  0.09641218,\n",
              "         -0.06088774, -0.25882829,  0.02871014,  0.14717563,  0.01283171,\n",
              "         -0.15706912, -0.1845157 , -0.20516206,  0.18438294,  0.1492951 ,\n",
              "         -0.24864382, -0.10354438,  0.31802326,  0.26076426,  0.20275889],\n",
              "        [-0.19157626,  0.03891992,  0.03473308,  0.07335294,  0.27217291,\n",
              "          0.17749698, -0.05782075,  0.31875856, -0.02176456, -0.20873653,\n",
              "         -0.07768082,  0.03619871, -0.03837387, -0.02193896, -0.21920021,\n",
              "         -0.13712479, -0.112187  ,  0.02725756, -0.27902183,  0.10550426,\n",
              "         -0.25172219, -0.16957204, -0.16434906, -0.009585  ,  0.02153159,\n",
              "          0.11641121, -0.29472087, -0.18963466,  0.15086348,  0.21550271]]),\n",
              " array([[ 2.02902567e-01,  2.75433991e-01,  9.62149969e-02,\n",
              "          2.83694122e-01, -2.25890515e-01, -5.05408222e-03,\n",
              "         -2.88365943e-02, -1.33725580e-01,  1.25925502e-01,\n",
              "         -6.56126417e-04,  1.48410236e-01, -3.96458044e-02,\n",
              "          7.80328885e-02, -2.21470722e-01, -4.82437523e-02,\n",
              "         -2.87747490e-01, -2.75548300e-01, -1.83356724e-01,\n",
              "         -2.60419766e-01, -1.89443933e-02,  2.83705353e-01,\n",
              "          7.40226083e-02, -3.96874411e-02, -6.84828283e-02,\n",
              "          2.23121096e-01, -1.02519930e-01,  2.13586698e-01,\n",
              "         -3.18996487e-01,  2.53380468e-02,  1.01481983e-01],\n",
              "        [-1.27370033e-01, -1.75015011e-01,  4.24640302e-02,\n",
              "         -2.71468251e-01,  2.72869069e-01,  6.58159858e-02,\n",
              "         -1.13075547e-01, -1.29532836e-01,  2.68837128e-01,\n",
              "         -1.61693860e-01,  6.91175492e-02, -1.65971046e-01,\n",
              "         -2.65555449e-01,  4.36367665e-02,  1.46036137e-02,\n",
              "          5.03204570e-02, -6.27322965e-02,  1.57985590e-01,\n",
              "         -2.36579580e-01, -6.24579360e-02,  1.86568176e-01,\n",
              "          2.44304813e-02, -3.38410975e-01, -2.94214789e-01,\n",
              "          3.53852867e-02,  7.09390978e-02, -1.14008709e-01,\n",
              "          2.26763407e-01,  2.35851763e-01,  2.51914814e-01],\n",
              "        [-1.08714803e-01, -1.20473733e-01,  9.20666877e-02,\n",
              "         -1.47688887e-01, -2.52977036e-01,  1.23266785e-02,\n",
              "         -2.47084170e-01, -2.15255666e-01,  4.68916063e-02,\n",
              "         -1.85906542e-01, -2.22742297e-01,  8.12331645e-02,\n",
              "          3.00110017e-01,  2.81799026e-02,  9.86936453e-02,\n",
              "          8.91745469e-02, -3.20887964e-01,  1.22037400e-01,\n",
              "          4.75309866e-02, -9.41779312e-03,  7.05899919e-02,\n",
              "         -5.95659961e-02,  1.05845261e-01, -2.51241194e-01,\n",
              "         -1.44758734e-01, -2.49820078e-02, -2.87761886e-01,\n",
              "          1.31487300e-01, -1.54669506e-01,  1.54525630e-02],\n",
              "        [-2.92349907e-01, -3.01275732e-01,  2.50189442e-01,\n",
              "         -2.29788390e-01,  2.93011943e-01,  5.35140739e-02,\n",
              "         -4.30472654e-02,  4.14284977e-02,  6.30296811e-02,\n",
              "          1.42429115e-01,  7.39353750e-02,  2.30778129e-01,\n",
              "         -1.20826432e-01,  9.85755173e-02, -7.94532054e-02,\n",
              "         -2.82354863e-01,  4.89878035e-02, -1.77923742e-01,\n",
              "         -1.12752273e-01, -1.65215672e-02,  2.16714156e-01,\n",
              "         -2.16616965e-01,  3.32522248e-01,  1.81996142e-01,\n",
              "         -1.80173608e-01,  1.06263158e-02, -1.52576671e-01,\n",
              "         -6.01977394e-02,  1.14505974e-01, -1.79591280e-02],\n",
              "        [-1.45829842e-01, -1.42711267e-01,  1.12055090e-01,\n",
              "          5.18505710e-02,  2.15103833e-01,  2.06838134e-01,\n",
              "          6.16677359e-02,  1.88389698e-01,  3.50594205e-02,\n",
              "          2.04903446e-01,  1.68576059e-01, -1.49478737e-01,\n",
              "          1.85549801e-02, -2.44481215e-01, -6.64972435e-02,\n",
              "         -1.24711038e-02, -1.08447965e-01, -8.37193250e-02,\n",
              "         -2.25637534e-01, -7.72705257e-02,  1.47958996e-02,\n",
              "          7.10972999e-02,  2.31665645e-01, -9.90909527e-02,\n",
              "          1.12768373e-02, -3.09153466e-02,  1.76218374e-02,\n",
              "          2.75498151e-01,  1.75987995e-01,  7.27024125e-02],\n",
              "        [-1.85034523e-02,  2.68609354e-01, -6.48847686e-03,\n",
              "         -8.77362300e-02,  1.59834759e-01, -5.38045948e-02,\n",
              "         -9.88416348e-02,  1.91115812e-01, -1.83366770e-01,\n",
              "         -1.09409388e-02,  2.99764433e-01,  3.01708019e-01,\n",
              "          2.59174693e-01,  1.74680329e-01,  1.84212963e-01,\n",
              "         -4.10614524e-02, -2.76908545e-01,  2.90931000e-01,\n",
              "         -1.57080889e-01,  1.07191480e-01,  2.51822792e-01,\n",
              "          2.17488067e-01, -1.34416261e-01, -3.26191873e-01,\n",
              "         -1.08797661e-01, -2.23716673e-01,  4.14838082e-02,\n",
              "          1.52907839e-01,  2.25483819e-01,  1.44657887e-01],\n",
              "        [-9.68276440e-02,  2.53037328e-01, -3.21081210e-02,\n",
              "          1.78540397e-01,  2.92664163e-01, -4.25968046e-02,\n",
              "         -3.09149650e-02,  2.19191699e-01,  1.47837277e-01,\n",
              "          1.96690994e-01, -1.66998146e-01,  1.88986307e-01,\n",
              "          1.71149152e-01, -1.48416669e-01, -1.71682758e-01,\n",
              "         -2.77017167e-01,  1.94607718e-01, -2.17098109e-01,\n",
              "         -1.18931512e-01, -2.75766722e-01, -1.32167242e-01,\n",
              "          2.41942684e-01,  7.80472289e-02, -9.62105905e-02,\n",
              "          1.65799330e-01,  3.40332476e-01,  3.10748182e-01,\n",
              "          2.54392228e-02,  1.98926525e-01,  1.05115974e-01],\n",
              "        [-1.73438389e-01, -3.59216985e-01, -2.43939290e-01,\n",
              "          2.88411730e-01, -3.18545650e-01,  2.22884950e-01,\n",
              "         -1.84186457e-01, -2.03636853e-02,  2.10396956e-01,\n",
              "          6.20969267e-02, -2.37884007e-02, -1.15586815e-01,\n",
              "          2.99272558e-01, -1.56479335e-01, -2.81367911e-01,\n",
              "         -1.55604954e-01,  1.32365787e-01, -1.25907128e-01,\n",
              "         -1.09811876e-01, -1.66183739e-01,  5.93125128e-02,\n",
              "          6.15887265e-02, -3.11400148e-01, -1.23732833e-01,\n",
              "         -2.41516825e-01,  3.08078506e-01,  1.45083870e-01,\n",
              "          2.22234397e-02,  2.28999315e-01,  1.80644193e-01],\n",
              "        [ 7.42846058e-02, -9.51538909e-02,  2.53917639e-02,\n",
              "          3.14338860e-01,  5.49651829e-02, -2.43989258e-02,\n",
              "         -2.56423189e-01, -9.70981484e-04,  2.52939387e-01,\n",
              "          2.54238415e-02,  3.94754986e-02,  1.93272120e-01,\n",
              "         -1.29342081e-03, -1.77118613e-01, -2.08804720e-01,\n",
              "          3.02760566e-01,  1.00777027e-02, -2.09789977e-01,\n",
              "         -9.63235877e-03,  1.32365492e-02, -2.43451830e-01,\n",
              "         -2.14012289e-01,  4.08914935e-02, -1.61334253e-01,\n",
              "         -2.94704798e-01,  2.70398766e-01,  1.21346950e-01,\n",
              "         -2.54803494e-01, -2.24902164e-01, -1.89261250e-02],\n",
              "        [-9.48802296e-02,  1.10191934e-01, -2.93049982e-01,\n",
              "         -1.35562822e-01, -2.50201948e-01, -2.33734810e-01,\n",
              "          2.42447106e-01,  3.16219836e-01,  1.90186150e-01,\n",
              "          2.54674957e-01,  1.70002314e-01,  1.54029517e-01,\n",
              "         -2.21173107e-01,  5.26484473e-02,  4.90291078e-03,\n",
              "         -2.05656605e-01,  3.43001001e-01,  3.04270171e-01,\n",
              "          7.69745188e-02,  2.36230563e-01,  7.65676998e-02,\n",
              "         -1.81539398e-01,  1.71668572e-01, -1.88185377e-01,\n",
              "         -4.99013445e-02,  2.16890427e-01, -5.08523405e-02,\n",
              "          9.53446710e-02,  9.18573380e-02,  2.15213184e-01],\n",
              "        [ 1.25071480e-02,  2.27016360e-01,  8.68943686e-03,\n",
              "         -7.71360209e-02,  3.34896153e-03, -8.21198735e-02,\n",
              "          9.34370427e-02, -2.81358834e-01, -3.36071323e-02,\n",
              "         -3.30108393e-02, -1.56308131e-01,  2.98233008e-01,\n",
              "         -1.64114506e-01,  2.85781251e-01, -1.14408392e-01,\n",
              "          1.01305381e-01, -2.65490029e-01,  3.04378878e-01,\n",
              "         -9.62130292e-02,  2.31990143e-02,  2.39458229e-01,\n",
              "         -2.72126656e-01,  1.95191560e-01,  6.29964318e-02,\n",
              "         -2.15233022e-01, -2.87356623e-01,  1.98589285e-01,\n",
              "          1.29460273e-01,  4.21111146e-03,  3.49706038e-02],\n",
              "        [-2.13003697e-01, -1.57025984e-01,  3.07828685e-01,\n",
              "         -2.17507514e-01, -2.70125087e-01,  8.68357317e-02,\n",
              "          5.32311784e-02, -1.32932478e-01, -2.88029632e-01,\n",
              "         -1.45833111e-01, -9.01348609e-02,  3.02859771e-01,\n",
              "          2.10020050e-01,  6.96990746e-02,  5.35491579e-02,\n",
              "         -9.14708846e-04,  5.60292733e-02,  2.82080907e-01,\n",
              "          1.18102206e-01, -1.74471181e-01, -4.31944720e-02,\n",
              "         -1.83435205e-01,  1.71786233e-01,  1.05748024e-01,\n",
              "          9.86567778e-02,  9.15655931e-02,  2.39493253e-01,\n",
              "         -2.72794015e-01,  2.38141215e-01,  1.35922753e-01],\n",
              "        [ 6.92655406e-02, -1.45578297e-01,  2.43904701e-02,\n",
              "         -8.87308679e-03, -1.26779638e-01,  1.04576274e-01,\n",
              "         -7.56144432e-02,  1.93380619e-01, -1.55912426e-01,\n",
              "         -2.53758589e-01,  2.65983765e-01, -2.16255203e-01,\n",
              "          2.64532005e-01, -9.75389270e-02, -8.84561618e-02,\n",
              "         -2.82201563e-02,  5.74183903e-02,  2.87551438e-01,\n",
              "          2.08468889e-01, -4.03900689e-02, -2.08505418e-01,\n",
              "         -1.72886735e-01, -1.67682042e-01, -2.02979697e-01,\n",
              "          2.35339800e-01,  7.22971349e-02, -6.81031071e-02,\n",
              "         -2.89991673e-01,  1.14792809e-01, -4.07307835e-02],\n",
              "        [ 1.26707510e-01,  3.27157437e-02,  8.27659362e-02,\n",
              "         -2.45706897e-01,  2.91212570e-01,  1.99450949e-01,\n",
              "          2.12962329e-01,  2.86273055e-01,  1.58153484e-01,\n",
              "          1.99165894e-01, -1.43933434e-01,  7.82053354e-02,\n",
              "          2.88309025e-01,  2.91047075e-01,  8.72468343e-02,\n",
              "         -2.34131579e-02,  1.81015544e-02, -2.27377373e-01,\n",
              "          2.62883151e-02, -2.57940441e-01,  3.00902778e-01,\n",
              "         -9.72615116e-02,  1.59773598e-01,  1.64119252e-01,\n",
              "          3.08450339e-01,  1.71958596e-01, -9.22260667e-02,\n",
              "         -2.00667159e-01, -2.25365369e-01, -2.24766210e-01],\n",
              "        [-1.86738316e-01,  2.22149086e-01, -2.21834879e-01,\n",
              "         -1.99709751e-01,  2.76216228e-01,  1.74489669e-01,\n",
              "          1.71814967e-01,  1.51229988e-01, -2.16918926e-01,\n",
              "          1.98790471e-03, -7.80917997e-02,  5.85108540e-03,\n",
              "         -1.84962749e-01, -2.41017571e-01, -6.94259579e-03,\n",
              "         -4.19936961e-02,  2.23653753e-01,  2.03415648e-02,\n",
              "          2.09802440e-03, -1.49781736e-01, -1.78727596e-01,\n",
              "          5.58049017e-02, -3.18009115e-01, -3.09539691e-03,\n",
              "         -3.67102930e-02, -1.96427354e-01, -2.92512384e-01,\n",
              "         -9.76672120e-02, -2.38282039e-01, -1.97846072e-02],\n",
              "        [-2.44101304e-01, -1.50587179e-01, -1.76962430e-01,\n",
              "         -6.87102616e-02, -1.16237991e-02, -2.15146387e-01,\n",
              "         -2.55013824e-01,  1.40675857e-01,  1.28493699e-01,\n",
              "         -4.50037328e-02, -2.56602904e-01, -5.37681289e-02,\n",
              "          2.07937695e-01, -2.27114851e-01, -8.16683478e-03,\n",
              "         -2.82416056e-01,  2.40555883e-01, -2.08680194e-01,\n",
              "         -8.88783743e-02,  2.21642055e-01, -8.71107600e-02,\n",
              "          1.90890861e-01, -2.89707848e-01,  3.09303141e-01,\n",
              "         -2.89459544e-01,  2.48638846e-01, -2.30778435e-01,\n",
              "         -1.31517328e-01, -1.24098451e-01, -7.17884964e-02],\n",
              "        [-8.38483144e-02, -2.82677275e-01,  4.51287560e-02,\n",
              "         -2.21299111e-01, -2.65894414e-01, -2.21730843e-01,\n",
              "          2.23346825e-01,  2.93669101e-01, -1.08977307e-01,\n",
              "         -6.20433682e-02, -2.35831582e-01,  5.84336000e-02,\n",
              "         -1.63231716e-01, -6.87201606e-02, -1.22049579e-01,\n",
              "         -8.92246749e-02, -1.75248282e-01, -2.39379303e-01,\n",
              "         -2.82014173e-02, -6.30227148e-02,  1.36862717e-01,\n",
              "          1.87096161e-01,  1.55479956e-01,  1.14359355e-01,\n",
              "          9.37816413e-02, -1.16558431e-01,  5.17039273e-02,\n",
              "          9.25835483e-02,  6.85922974e-02,  1.26990655e-01],\n",
              "        [-8.47019354e-02,  9.79991788e-02, -1.90841537e-01,\n",
              "         -1.52321803e-01, -1.23929898e-01,  2.84394390e-01,\n",
              "         -2.44318914e-01,  2.18407164e-01, -2.21037096e-01,\n",
              "          1.86880614e-01, -1.99092460e-02,  5.94619529e-02,\n",
              "          2.12245260e-01, -2.03862203e-01,  3.58649086e-01,\n",
              "         -1.49632542e-01,  2.12055286e-01, -3.62469968e-02,\n",
              "          8.96207697e-02,  4.35391840e-03, -7.55633576e-02,\n",
              "          1.74404061e-01,  2.36230270e-01, -2.77915811e-01,\n",
              "          1.79414603e-01, -8.27137976e-02, -9.82285792e-02,\n",
              "          2.61667808e-01, -4.39843917e-02, -5.23819910e-02],\n",
              "        [ 1.79506865e-02, -8.86843664e-02, -6.89421650e-02,\n",
              "          1.93469917e-02,  2.12090323e-01,  2.15156510e-01,\n",
              "         -2.86772228e-01,  2.05860633e-01,  2.88779298e-01,\n",
              "          1.65010003e-01,  1.75919172e-01,  2.78060402e-01,\n",
              "          4.49558018e-02,  9.12626308e-03,  2.60895189e-01,\n",
              "         -1.88900078e-01, -1.20369730e-01, -1.56712713e-01,\n",
              "          3.17715385e-01,  5.45914068e-02,  8.02359722e-02,\n",
              "          3.20338744e-02,  2.87060216e-01, -3.25526140e-02,\n",
              "         -8.38992054e-02, -3.15900323e-01,  1.06771519e-01,\n",
              "         -3.30451775e-01,  3.18436614e-02,  2.01920392e-01],\n",
              "        [ 3.14083513e-01,  1.01770652e-01,  2.91532452e-01,\n",
              "          3.92624517e-02, -1.02140051e-01, -2.73882811e-01,\n",
              "          2.00593174e-01,  2.25266213e-01, -4.34228812e-02,\n",
              "         -1.78402800e-01,  2.79751996e-01, -1.51184583e-01,\n",
              "          1.61415296e-01,  1.27711874e-01, -2.66749625e-01,\n",
              "          2.22988902e-01, -3.15413787e-01,  5.07183294e-02,\n",
              "          2.15383262e-01,  2.42498831e-02,  2.86810343e-01,\n",
              "          6.59618670e-03,  1.35340047e-01, -1.56358661e-01,\n",
              "          1.33984609e-01,  3.18822208e-02, -2.87071619e-01,\n",
              "          7.28323679e-02,  2.85093085e-01, -3.02400985e-01],\n",
              "        [-3.28814018e-03,  1.09135610e-01,  5.97225137e-02,\n",
              "          1.22639628e-01, -2.26384551e-02, -2.00219737e-01,\n",
              "         -2.14212695e-01,  1.76001066e-01, -1.57717162e-01,\n",
              "         -1.23978583e-01, -9.20028437e-02,  1.77374312e-02,\n",
              "          1.43256809e-01,  2.49481589e-01,  1.71291416e-01,\n",
              "         -4.54245061e-02,  1.47685436e-01, -2.81502383e-01,\n",
              "          1.07200727e-01,  2.74272579e-01,  2.72613742e-01,\n",
              "         -6.65254890e-02, -1.40822795e-01,  8.99446148e-02,\n",
              "         -1.42426939e-01,  1.63658257e-02,  8.25446399e-02,\n",
              "         -5.89368857e-03, -2.48189141e-01,  2.83741980e-01],\n",
              "        [-1.21673919e-01, -1.64224506e-02,  3.38074406e-01,\n",
              "          1.34828488e-01,  1.81682156e-01, -4.49654871e-02,\n",
              "          1.44000515e-01,  1.75449716e-02,  1.73226349e-01,\n",
              "         -1.75158539e-01,  6.65072443e-02,  2.45497365e-01,\n",
              "          2.03017065e-01, -5.85150002e-02,  2.96474317e-01,\n",
              "          3.87942741e-03,  2.64151162e-01, -1.90716031e-01,\n",
              "         -6.92763359e-02,  1.88819846e-01, -6.65071893e-02,\n",
              "         -1.55393216e-01,  1.13454824e-01, -2.03618149e-01,\n",
              "          1.24601775e-01, -5.09214451e-02,  1.55321514e-01,\n",
              "         -1.94402994e-01,  2.85235724e-01,  1.98011228e-01],\n",
              "        [-2.15053944e-01,  2.43218011e-01, -4.05384857e-02,\n",
              "         -6.85851363e-02,  2.80741476e-01, -1.39267250e-02,\n",
              "          1.32880749e-01, -1.03419897e-01, -8.69946298e-02,\n",
              "          5.70631440e-02,  1.77597052e-01,  2.40011640e-04,\n",
              "         -1.48591891e-01,  1.43696734e-01, -1.51465508e-01,\n",
              "          2.69961486e-01, -8.25698247e-02, -2.43390892e-01,\n",
              "         -1.21300705e-02, -3.15322156e-01, -2.97745348e-01,\n",
              "          8.45421704e-02, -8.56658636e-02,  2.23387466e-01,\n",
              "         -7.18850945e-02,  2.17314276e-01, -2.67389833e-01,\n",
              "         -1.24079031e-01, -1.23455668e-01,  2.34279499e-01],\n",
              "        [ 2.08195045e-01, -3.77352550e-02, -1.31104295e-01,\n",
              "         -4.70110545e-02,  1.08402571e-01,  5.72266010e-02,\n",
              "         -2.07348688e-01,  2.15664947e-01, -2.01930981e-02,\n",
              "          3.84340090e-02,  3.04247936e-01, -7.36383712e-02,\n",
              "         -2.09918680e-01,  1.53377886e-01, -7.40647740e-02,\n",
              "          2.75926598e-01, -1.20728960e-01,  2.28651236e-01,\n",
              "         -2.06948448e-01,  4.58277729e-02, -1.52354394e-01,\n",
              "          5.74232299e-02,  1.44102757e-01, -1.65068363e-01,\n",
              "         -4.50093706e-02,  2.65239438e-01,  2.31615751e-01,\n",
              "         -7.76284955e-02, -2.95371367e-01, -3.00900129e-02],\n",
              "        [ 2.35250321e-02,  8.24012166e-02, -5.27088688e-02,\n",
              "         -1.74439257e-01,  6.12434360e-02, -3.14413112e-01,\n",
              "         -1.54831556e-02,  1.42353803e-01,  2.62944500e-01,\n",
              "          4.40504200e-02,  2.01251920e-01,  2.08753011e-01,\n",
              "          4.54378809e-02, -1.67583231e-01, -1.99550332e-01,\n",
              "          2.06032874e-03, -8.91264252e-02,  2.09523313e-02,\n",
              "         -1.56358228e-01,  2.69109133e-01,  2.58091503e-01,\n",
              "         -1.10102825e-02,  2.84637314e-02,  2.43806216e-01,\n",
              "          1.42212945e-02,  2.98380981e-01,  2.11121118e-02,\n",
              "         -2.60873961e-01, -1.92292146e-01, -5.95633120e-02],\n",
              "        [ 1.06819727e-01, -1.42934838e-02,  9.58896450e-02,\n",
              "          2.17757111e-01, -3.49886470e-02, -4.72857237e-02,\n",
              "          2.16443642e-01, -7.38569753e-02,  1.83529015e-01,\n",
              "          1.59182937e-01,  2.51800686e-01, -2.94009203e-01,\n",
              "          9.23979177e-02,  5.05496090e-02, -2.44069937e-01,\n",
              "          1.76183955e-02, -2.27088783e-01,  6.57686843e-03,\n",
              "          2.07079597e-01,  1.73484036e-01, -7.34544502e-02,\n",
              "         -8.63574228e-02, -2.46696057e-01, -2.15448270e-01,\n",
              "          2.59811836e-01, -3.13876075e-01, -2.64313885e-01,\n",
              "         -1.19338709e-01, -3.22194100e-01,  2.65910716e-01],\n",
              "        [-2.72742505e-02,  9.49699364e-02, -1.19664899e-01,\n",
              "          1.49713885e-01,  5.38105587e-02,  6.08095695e-02,\n",
              "          5.45198027e-02,  2.07222589e-01,  1.71200060e-01,\n",
              "          4.19599059e-03, -2.52990252e-01,  1.80215958e-01,\n",
              "          5.60200152e-03, -1.25114802e-01, -1.50413146e-01,\n",
              "         -2.12880400e-01,  2.04720073e-01, -3.14353018e-01,\n",
              "          1.57072280e-02, -1.85168260e-01, -1.31084655e-01,\n",
              "          1.97072671e-01, -2.11468059e-01, -2.79810468e-01,\n",
              "          1.29850870e-01, -1.83726859e-01,  2.68346327e-01,\n",
              "          1.24747633e-01, -1.75468892e-01,  9.95464734e-02],\n",
              "        [-2.29012167e-01, -2.11584650e-01,  1.10316891e-01,\n",
              "         -1.58537933e-01, -1.72563690e-01, -2.67717144e-01,\n",
              "         -5.93519919e-02, -3.28460863e-01,  2.53890916e-01,\n",
              "         -1.61023751e-01,  1.49606069e-01,  1.23724640e-01,\n",
              "          1.73458128e-01, -3.11622666e-03, -1.38331401e-01,\n",
              "         -4.86365798e-02,  1.01580431e-01,  1.38853760e-01,\n",
              "          1.21803166e-01, -2.91827960e-01,  7.80108949e-02,\n",
              "         -2.91473647e-01, -1.71869802e-01,  2.07218280e-01,\n",
              "          2.91604479e-01, -2.80466548e-01, -1.43953111e-01,\n",
              "          7.53618685e-02,  9.03497646e-02,  1.45440324e-01],\n",
              "        [ 2.64957401e-01, -9.60706628e-02,  1.93695120e-01,\n",
              "         -5.52910974e-02,  4.86883585e-02,  8.35225583e-02,\n",
              "          2.45736647e-01, -2.57765771e-01, -2.82059830e-01,\n",
              "          2.27073783e-01, -1.95544230e-01, -5.82271491e-02,\n",
              "          4.34170143e-02, -2.75936144e-01, -1.26410448e-01,\n",
              "          1.69222151e-01, -8.82037379e-02, -2.19015831e-01,\n",
              "          2.21053313e-01,  1.26382650e-01,  1.68139518e-01,\n",
              "          2.99910964e-01, -1.50677826e-01, -8.20562325e-02,\n",
              "         -4.93644889e-02,  1.35124329e-02,  2.45351939e-01,\n",
              "         -3.06450313e-01,  1.80253407e-01, -1.68948900e-01],\n",
              "        [-1.92970186e-01,  2.80676335e-01,  1.59955429e-01,\n",
              "          8.36922967e-03,  1.01288705e-01, -2.09373221e-01,\n",
              "         -3.18579338e-01,  2.60822681e-01, -2.44491892e-01,\n",
              "          4.57716424e-02, -4.49627752e-02, -3.00952056e-01,\n",
              "         -1.89295098e-01,  2.21254433e-01,  2.84405410e-01,\n",
              "          2.28350949e-01,  1.49622051e-02,  1.52833104e-01,\n",
              "         -1.22376101e-01, -6.13777948e-02,  6.98630656e-02,\n",
              "         -4.84570674e-03, -1.25363250e-01, -1.09004773e-01,\n",
              "         -3.58078846e-02, -2.17644785e-01,  1.19243925e-01,\n",
              "          1.63574764e-01,  1.37757429e-01, -1.00894095e-01]]),\n",
              " array([[ 2.77010602e-01,  1.13393853e-01, -2.00756050e-01,\n",
              "         -3.04380069e-01, -2.19529261e-02,  1.32350736e-01,\n",
              "         -3.85400222e-02,  7.77522889e-02, -1.28966774e-01,\n",
              "          1.80841948e-01,  7.84072936e-02,  4.65378448e-02,\n",
              "          2.98465978e-01, -1.62188992e-01,  1.24352796e-01,\n",
              "          5.19683242e-02, -3.40279394e-02,  1.18073388e-01,\n",
              "          5.28162910e-07, -6.94710255e-02,  5.13835172e-02,\n",
              "          3.61657399e-02, -1.17350925e-02, -1.10750568e-01,\n",
              "          3.04637520e-01, -2.78394823e-02, -2.47642628e-01,\n",
              "         -2.58260922e-01, -2.73528412e-01, -1.82836268e-01],\n",
              "        [-2.65015405e-01,  1.38488495e-01, -2.99814840e-01,\n",
              "          3.08837222e-01,  1.92653173e-01,  2.62913716e-02,\n",
              "          2.81357087e-01, -1.20986310e-01,  1.70731622e-01,\n",
              "          2.80600388e-01,  2.30223541e-01, -2.52413339e-01,\n",
              "         -1.15253522e-01, -2.37916403e-01, -2.93598705e-01,\n",
              "          1.24898674e-01, -1.27204627e-01,  2.06899407e-01,\n",
              "          1.68473953e-01,  2.58072237e-01,  2.23638860e-02,\n",
              "         -2.66977148e-01,  1.56581911e-01,  2.89366767e-01,\n",
              "         -1.29846417e-01,  2.83557359e-01,  1.52811523e-01,\n",
              "         -3.06057748e-02, -3.16049294e-01, -1.66633293e-01],\n",
              "        [-2.38022875e-01,  1.03165134e-02,  7.29833551e-03,\n",
              "          8.67035950e-02,  2.20591569e-01,  2.77454918e-01,\n",
              "         -2.31733634e-01, -1.92302027e-02, -1.67805901e-01,\n",
              "          1.42417932e-01,  3.12348080e-01, -4.76097493e-02,\n",
              "         -4.44480354e-02,  1.82241315e-01, -9.96404551e-02,\n",
              "          3.04062463e-01,  2.35817981e-01,  1.64103085e-01,\n",
              "         -1.53676987e-01, -3.07878488e-01, -2.40176954e-01,\n",
              "          2.51979415e-01, -5.46714192e-02,  2.76086773e-01,\n",
              "          1.37164921e-01,  1.88942440e-02, -9.99056013e-02,\n",
              "          2.10819659e-01,  2.16470488e-01, -1.67860288e-01],\n",
              "        [-7.61028604e-02,  1.96520371e-01, -2.74373179e-03,\n",
              "          1.62103876e-01, -2.38400668e-01, -1.44964526e-01,\n",
              "         -5.55510475e-02, -1.66851442e-01,  2.28059307e-01,\n",
              "          5.05771046e-02, -1.02186404e-01,  2.18086558e-01,\n",
              "          6.27415518e-02,  2.04680864e-01, -1.12167678e-01,\n",
              "          1.16364544e-01, -6.42799052e-02,  2.81692222e-01,\n",
              "          1.43757922e-01, -9.53796242e-02,  7.16619286e-02,\n",
              "          1.74687169e-01, -8.36771710e-02, -9.82617307e-02,\n",
              "         -2.07894527e-01,  1.25426495e-01,  2.54355660e-01,\n",
              "          8.71877908e-04, -1.47341081e-01, -8.68194147e-02],\n",
              "        [ 1.05049583e-02, -1.56221941e-01, -2.00727724e-03,\n",
              "          4.06183305e-02,  1.91394024e-01,  1.08619633e-01,\n",
              "         -3.16100473e-01,  2.85350404e-01, -7.79198076e-02,\n",
              "          2.95483840e-01,  1.79510040e-01, -6.34257956e-02,\n",
              "         -7.59731670e-02, -1.21287499e-01,  3.41403017e-02,\n",
              "         -1.26672536e-01, -2.08258109e-01,  1.81908193e-01,\n",
              "         -3.51911692e-02, -2.91726105e-01, -1.95223840e-01,\n",
              "         -1.63764430e-01, -1.01437033e-01, -1.14569114e-01,\n",
              "         -3.06130321e-01, -7.40874889e-02, -2.49148117e-01,\n",
              "          5.59976705e-02, -2.51456887e-01,  9.87178848e-03],\n",
              "        [-1.57323765e-01,  1.24390939e-01,  2.82593351e-01,\n",
              "          1.62012761e-02,  2.64067380e-01, -2.22426835e-01,\n",
              "         -1.59451808e-01,  2.27808580e-01,  1.54757297e-01,\n",
              "         -7.04858602e-02,  1.59238522e-01, -3.32348342e-02,\n",
              "          2.67448400e-01, -5.32005580e-02,  2.73241888e-01,\n",
              "          1.46326683e-01,  2.31783188e-01, -1.22531553e-01,\n",
              "          1.13232170e-01,  1.00787474e-01, -1.11881366e-01,\n",
              "          1.70328454e-01, -1.28283189e-01,  2.95023724e-02,\n",
              "         -1.11649506e-02,  4.54205415e-02,  1.22251388e-01,\n",
              "         -2.54869951e-01,  2.84969602e-01,  1.01234088e-01],\n",
              "        [-4.23852687e-03, -2.80765687e-01,  1.69421936e-01,\n",
              "         -2.38024966e-01,  1.32221286e-01, -1.54238204e-01,\n",
              "          1.18674051e-01, -2.28962946e-01, -2.97237235e-01,\n",
              "          9.30014206e-02,  2.75239614e-01, -1.85890956e-01,\n",
              "          1.68799958e-02, -5.38132880e-02,  2.24955207e-01,\n",
              "         -1.70351031e-01,  2.73616192e-01, -1.53380859e-01,\n",
              "          1.87513414e-02,  2.56518387e-02,  3.89095301e-02,\n",
              "          7.31232821e-04,  2.22024554e-01,  2.92089269e-01,\n",
              "          1.84223543e-01, -3.04636534e-01, -2.17758287e-01,\n",
              "          2.08681094e-01, -1.56859088e-01,  1.29983545e-01],\n",
              "        [-3.62614263e-03,  1.44345547e-02, -4.53803058e-02,\n",
              "          2.65460889e-01, -3.18038573e-01,  2.81390125e-01,\n",
              "         -1.66143038e-01,  2.97277252e-02,  2.23199843e-01,\n",
              "         -9.58394402e-02, -1.60000709e-02,  2.51879869e-02,\n",
              "         -6.93107220e-02, -2.39339961e-01,  9.44174657e-02,\n",
              "          2.49077357e-02,  7.17602548e-03, -1.15356167e-02,\n",
              "         -2.00626259e-01,  7.00257627e-02, -1.80658227e-01,\n",
              "         -2.04176198e-01,  1.84917910e-01, -1.40757230e-01,\n",
              "          4.39845949e-02,  1.33607047e-01, -3.33885547e-02,\n",
              "         -8.45148032e-02, -2.16518151e-01,  2.00433888e-01],\n",
              "        [ 2.30891154e-01,  2.63617588e-01, -1.63564598e-01,\n",
              "         -2.26563680e-01,  5.84037096e-02,  6.19630966e-02,\n",
              "          2.01212573e-01, -3.00645819e-01,  2.23912633e-02,\n",
              "          2.10428128e-01,  1.63204062e-01, -2.02231837e-01,\n",
              "          1.86306260e-01, -7.87163595e-02, -1.81007628e-01,\n",
              "         -1.26838281e-01,  2.32187450e-01, -1.35042868e-01,\n",
              "         -9.11804545e-02, -6.35602798e-02, -2.91531974e-01,\n",
              "         -2.53428384e-01,  5.28261200e-02,  1.92988797e-01,\n",
              "         -2.24190218e-01,  2.49731684e-01,  2.89461844e-01,\n",
              "         -2.41711874e-01,  1.78821392e-01, -3.43641538e-02],\n",
              "        [-2.12909849e-01,  2.96539312e-01, -1.55732135e-01,\n",
              "         -1.10266326e-01,  3.60146044e-02,  2.20668483e-01,\n",
              "          1.41270082e-01,  1.81168401e-02,  5.26745028e-02,\n",
              "         -2.98860624e-01, -7.23507307e-03, -1.36994408e-01,\n",
              "         -1.36171979e-01, -1.30387591e-01, -2.13837177e-02,\n",
              "          1.02936395e-01,  2.65567120e-02, -3.35533626e-01,\n",
              "          2.03533635e-01, -8.20957152e-02, -1.62482430e-01,\n",
              "          1.22740385e-01,  1.52646144e-01,  1.72999215e-01,\n",
              "          2.66261796e-01, -2.29132747e-01, -2.91610260e-01,\n",
              "         -2.11051756e-01, -5.20275528e-03,  1.26581836e-01],\n",
              "        [ 8.42241830e-02,  2.08856994e-02, -4.79059319e-02,\n",
              "          2.80289740e-02, -9.39262946e-02, -1.13705059e-01,\n",
              "         -3.13567704e-02,  3.09223950e-01,  1.63930298e-01,\n",
              "          1.48697077e-01, -7.68639574e-03,  6.09847896e-03,\n",
              "         -1.03910415e-01,  2.27161629e-01,  3.01745800e-01,\n",
              "         -8.79449356e-02,  2.57626612e-01,  1.76662558e-01,\n",
              "         -2.86446855e-01,  1.70642746e-01,  1.56125071e-03,\n",
              "          3.13690751e-01, -2.82045803e-01, -3.01804560e-01,\n",
              "         -3.11966031e-01,  9.68497219e-02,  1.62609317e-01,\n",
              "          3.07018083e-01,  1.19299029e-01, -2.04423832e-01],\n",
              "        [-8.73378364e-02, -7.72689787e-03, -1.73784257e-01,\n",
              "         -3.17837066e-02, -2.58004271e-01,  1.25385708e-01,\n",
              "          1.72061251e-01, -1.11460730e-01,  2.44150721e-01,\n",
              "          1.01114296e-01,  2.76656407e-01,  1.51571274e-01,\n",
              "         -2.28532444e-01, -1.56405237e-01,  2.56740288e-01,\n",
              "          2.49570222e-01,  3.11133191e-01,  2.55667808e-01,\n",
              "         -2.09526119e-01,  1.09434869e-02,  2.10974604e-01,\n",
              "          3.39122201e-01,  3.22185331e-02, -1.82869631e-02,\n",
              "         -2.60285759e-03, -2.14322030e-01, -4.48578138e-02,\n",
              "          2.36734887e-01, -5.19044555e-02, -3.59044688e-02],\n",
              "        [-1.61191109e-01, -1.55879092e-01, -1.52183483e-01,\n",
              "         -1.02800077e-01, -3.00328655e-01, -3.19430764e-01,\n",
              "          1.29040989e-01, -2.59237081e-01, -7.97935887e-02,\n",
              "         -1.64822114e-02, -2.24200079e-01,  3.04699313e-01,\n",
              "          6.35504450e-02, -2.85525423e-01, -2.59067316e-01,\n",
              "         -8.61038070e-02, -1.86794883e-01,  2.39473976e-01,\n",
              "         -2.51747120e-01, -1.38026386e-01,  2.70455554e-01,\n",
              "         -1.19348798e-01,  1.20519378e-02,  1.91889830e-01,\n",
              "         -2.52907419e-01,  9.27162908e-02, -1.74473114e-01,\n",
              "         -2.35887646e-01, -2.41287929e-02,  1.43511667e-01],\n",
              "        [-5.63430690e-02, -2.51728035e-01,  2.29385098e-01,\n",
              "         -1.91100620e-01, -2.37940811e-01, -2.87896134e-01,\n",
              "          7.85236089e-02, -1.52010130e-01,  3.70968536e-02,\n",
              "          5.94826587e-02,  3.00395599e-01,  1.48689279e-02,\n",
              "          1.31964346e-02,  9.50163130e-02,  4.78307428e-02,\n",
              "         -3.11198194e-01, -2.78355852e-01,  2.34805232e-01,\n",
              "          2.54337845e-01,  2.07984766e-01,  2.24168686e-01,\n",
              "         -1.99437276e-01,  1.03561546e-01, -2.16852389e-01,\n",
              "         -2.90340408e-01,  1.10872038e-01,  2.78543632e-01,\n",
              "          2.34291849e-01, -6.12272209e-02, -6.90345342e-02],\n",
              "        [ 1.11029065e-02,  2.79058707e-01,  3.60994593e-02,\n",
              "         -5.70388350e-02,  2.78886148e-01,  2.11456875e-01,\n",
              "          1.24693956e-01,  2.34986867e-01, -2.61334667e-01,\n",
              "          2.37320832e-01, -1.76927612e-01,  3.18390728e-01,\n",
              "          8.51003393e-02, -1.54876818e-01, -1.23148289e-01,\n",
              "         -3.54925680e-01,  2.14479722e-01,  2.31457657e-01,\n",
              "         -2.51456856e-01, -7.92492795e-02, -1.24447642e-01,\n",
              "          2.27895440e-01,  1.00296183e-01,  1.85180150e-01,\n",
              "         -3.07755603e-01, -1.51771669e-01,  1.87822693e-01,\n",
              "         -1.56018587e-01, -4.77105342e-02,  2.03603195e-01],\n",
              "        [ 5.58539961e-02,  1.55485406e-01, -1.34418429e-01,\n",
              "          2.51666262e-02, -1.61054389e-01, -2.43794149e-01,\n",
              "          8.83109641e-03,  2.49024309e-02, -1.31476786e-01,\n",
              "          1.66258380e-01,  2.89466477e-01, -3.37674696e-02,\n",
              "         -1.85969066e-01, -8.73574558e-02, -8.82985004e-02,\n",
              "          2.72679573e-01,  2.15986772e-01, -1.78739532e-01,\n",
              "          1.95557464e-01, -2.85281519e-01, -2.23465138e-01,\n",
              "          1.08236422e-01,  1.77170546e-01, -5.30972204e-02,\n",
              "          3.64321661e-01, -1.04720003e-01, -1.63952357e-01,\n",
              "         -1.47804616e-01,  1.13658902e-01, -1.70090068e-02],\n",
              "        [ 8.42307874e-02, -5.03291477e-02,  3.10383431e-01,\n",
              "          4.68887077e-02,  3.08522433e-02, -1.26698636e-01,\n",
              "         -2.90923799e-01, -1.42725363e-01,  2.50167169e-01,\n",
              "          1.82919050e-01,  1.31304751e-02, -8.04138896e-02,\n",
              "          6.99061231e-02, -9.59188261e-02, -7.08694418e-02,\n",
              "         -2.76348983e-01, -2.36176540e-01,  1.42082562e-01,\n",
              "         -6.43585114e-02,  2.01932325e-01,  1.03398857e-01,\n",
              "         -2.76505506e-01,  2.13967330e-01, -1.78107710e-01,\n",
              "          1.44062506e-01,  2.74303198e-01,  1.71032511e-01,\n",
              "         -3.00320060e-01, -2.22491007e-01, -7.23087941e-02],\n",
              "        [ 2.25225906e-01,  1.08699322e-01,  2.48881285e-01,\n",
              "         -3.38456409e-01,  1.62168439e-01, -2.44524449e-01,\n",
              "          1.02849366e-02, -2.54752668e-01,  2.88324555e-01,\n",
              "          2.89910918e-01, -7.69713113e-02,  1.26881249e-01,\n",
              "         -1.55814062e-01,  2.53020542e-01,  1.32056227e-01,\n",
              "         -1.07324867e-02,  1.72860414e-01, -8.75922380e-02,\n",
              "         -2.33024797e-01,  3.18666924e-01,  3.08470396e-02,\n",
              "         -1.95951124e-01, -1.21536849e-01, -3.06840479e-01,\n",
              "          2.28007577e-01, -2.37697578e-01,  2.97077908e-02,\n",
              "          1.25890514e-01, -2.68876704e-01,  6.72648559e-02],\n",
              "        [ 1.29991594e-01,  7.86713172e-02,  2.64665864e-01,\n",
              "          3.05028751e-01,  2.45421261e-01, -2.74363403e-01,\n",
              "         -1.51837914e-01,  1.18877020e-01, -3.07853182e-01,\n",
              "          1.47257536e-01,  2.33921868e-01,  2.80832432e-01,\n",
              "         -2.12717954e-01,  2.59602154e-01, -4.78282022e-02,\n",
              "          3.70581075e-02,  1.98345586e-01, -1.36672453e-01,\n",
              "         -1.34699430e-01, -3.18246995e-02, -5.49331989e-03,\n",
              "         -1.91812460e-02, -4.41222140e-02, -8.96513104e-02,\n",
              "         -2.04559433e-01, -1.47682603e-01,  4.75395848e-02,\n",
              "         -5.85880488e-02,  1.87527848e-01,  1.50060424e-01],\n",
              "        [-7.87158195e-02,  3.12426584e-01,  2.65443697e-01,\n",
              "         -1.54268414e-01,  2.00976633e-01, -4.62103878e-02,\n",
              "         -2.84861873e-01,  5.55653980e-02,  2.74827821e-01,\n",
              "         -1.62901743e-01, -2.27164560e-01, -8.45502207e-02,\n",
              "         -2.84279665e-01,  2.27929743e-01, -2.67637816e-01,\n",
              "         -2.36737631e-01, -1.26717119e-02, -4.40508320e-02,\n",
              "          4.69293377e-02,  1.54497974e-01,  2.26699959e-01,\n",
              "         -1.30317489e-01, -1.82967722e-01,  3.84307332e-02,\n",
              "          5.84429546e-02, -1.39348991e-01, -1.73422663e-01,\n",
              "         -1.54743406e-01,  1.50130357e-01,  4.90188845e-02],\n",
              "        [ 2.54538587e-01, -2.75005280e-01, -4.02210224e-02,\n",
              "         -1.89431171e-01,  2.54876942e-02,  2.21119903e-01,\n",
              "          1.95373660e-01,  1.63937999e-01,  6.01457925e-02,\n",
              "         -3.11822264e-01, -6.01561846e-02,  1.34922416e-01,\n",
              "          1.92330495e-01,  6.81211710e-03,  2.25028926e-01,\n",
              "          6.77429494e-03,  9.14973133e-02,  2.66705613e-01,\n",
              "         -3.08817019e-01,  3.04903625e-01,  2.94529075e-01,\n",
              "         -8.55021208e-02, -5.29204026e-02,  2.21019498e-01,\n",
              "         -1.78806417e-01, -4.91476030e-02, -2.23033795e-02,\n",
              "         -2.89581227e-01,  1.93850013e-01, -1.39761333e-01],\n",
              "        [-1.56372623e-01, -2.68174631e-01, -3.13335563e-02,\n",
              "          3.95559679e-02,  8.68809740e-02, -1.77434190e-01,\n",
              "         -3.15947422e-01, -3.06954762e-01, -2.04498131e-01,\n",
              "         -1.50418909e-02,  1.12331219e-01,  7.58663428e-02,\n",
              "         -1.72371983e-01, -1.07557679e-01, -2.36729513e-01,\n",
              "         -1.91350757e-01,  2.22566298e-01, -8.96370493e-02,\n",
              "         -2.51895180e-01, -7.39560354e-02, -2.22917723e-01,\n",
              "          1.31234763e-01,  5.80842740e-02,  1.68016889e-02,\n",
              "         -6.57797593e-02, -2.24861946e-01,  2.88095486e-01,\n",
              "          2.97318282e-01,  1.54083275e-01, -1.62065597e-01],\n",
              "        [-1.21411530e-01,  5.13142768e-02, -1.08615640e-01,\n",
              "          5.85145393e-02,  7.18131556e-02, -2.79964544e-01,\n",
              "          1.45213758e-01, -2.16429036e-01, -3.00057148e-01,\n",
              "          3.19312202e-01,  2.65138290e-01, -1.94070874e-01,\n",
              "          5.73905647e-02, -2.83714893e-01,  1.55617855e-01,\n",
              "          2.49652568e-02, -7.90202329e-02,  1.05397104e-01,\n",
              "         -1.64711191e-01, -2.24710719e-01, -3.38596083e-02,\n",
              "         -1.53829101e-01, -2.09090241e-01, -5.49415753e-02,\n",
              "          1.07431957e-01,  1.87005220e-01,  1.35865718e-01,\n",
              "         -2.00384181e-01, -2.35158855e-01,  1.02297181e-01],\n",
              "        [-6.66387545e-02, -2.34411308e-01,  8.15147627e-02,\n",
              "         -2.12153008e-01, -1.96463453e-01,  2.93579507e-01,\n",
              "          5.45601099e-04, -3.20170011e-01,  2.25711894e-01,\n",
              "         -7.54454829e-02,  1.44731283e-01,  2.34734555e-01,\n",
              "         -2.54130143e-01,  6.57784041e-02, -1.05761262e-01,\n",
              "          2.79841021e-01,  2.54989182e-01, -2.56183147e-01,\n",
              "         -1.23948831e-01,  1.55261255e-01, -2.83291409e-01,\n",
              "          1.47776618e-01,  9.08926180e-02,  1.91284075e-01,\n",
              "          3.91162150e-02, -1.80031068e-01, -2.74294076e-01,\n",
              "          1.70678593e-01,  3.07460162e-01,  3.79225662e-01],\n",
              "        [-2.19948633e-01,  2.12652116e-01,  2.74604788e-01,\n",
              "          3.29832430e-01, -1.23518811e-01, -1.51396976e-02,\n",
              "         -6.17772571e-02,  2.73097741e-01, -1.70277993e-01,\n",
              "          8.38706856e-02,  1.73251972e-01, -2.02454915e-01,\n",
              "         -2.44170761e-02,  5.20862641e-02, -1.29786213e-01,\n",
              "          5.77924042e-02, -2.01084132e-01,  2.88255734e-01,\n",
              "          1.56442018e-01, -2.85710980e-02, -1.78072477e-01,\n",
              "          2.48695835e-01,  1.04503400e-01,  9.78863553e-03,\n",
              "          3.07501315e-01, -1.01724678e-01,  2.14736288e-01,\n",
              "         -1.40921076e-01, -2.26475629e-01,  3.49625711e-01],\n",
              "        [-1.89870472e-01,  7.45667151e-02,  1.41124108e-01,\n",
              "          2.34906387e-01,  6.03131427e-02, -1.71430950e-01,\n",
              "         -1.53441596e-01,  2.76196632e-01, -1.98291827e-01,\n",
              "          1.94573436e-02,  1.03663821e-01, -1.04631019e-01,\n",
              "          5.89547311e-02,  2.18697459e-01,  1.64006420e-01,\n",
              "         -1.37909462e-01, -2.82217884e-01, -1.09244475e-01,\n",
              "         -6.16156197e-05,  2.29453501e-01,  1.39544518e-01,\n",
              "         -1.29270181e-01,  1.26740417e-01, -2.22198630e-02,\n",
              "         -2.45629266e-01,  5.06795324e-02,  2.47596660e-01,\n",
              "         -2.41668315e-01,  3.09755495e-01,  2.20023635e-02],\n",
              "        [-2.17401534e-01,  2.75728650e-01, -3.78869344e-02,\n",
              "         -1.16959209e-01,  6.10975241e-03,  2.70495416e-01,\n",
              "          1.69488129e-01, -1.22432799e-01,  7.74815365e-02,\n",
              "         -1.33872983e-01,  2.80289043e-01,  6.97394863e-02,\n",
              "         -2.74063033e-01, -1.71884711e-01,  1.73959712e-01,\n",
              "         -1.64501932e-01,  1.51736682e-01,  2.13674267e-01,\n",
              "          2.98628344e-01,  2.39605181e-01,  4.45650370e-02,\n",
              "         -1.33586319e-01,  8.29350501e-02,  1.90442880e-01,\n",
              "          3.63801891e-01, -1.92569825e-01, -1.17467855e-01,\n",
              "          1.29321489e-01, -1.50407341e-02,  1.76460601e-02],\n",
              "        [-1.01414336e-01, -2.27527565e-01, -1.73739324e-01,\n",
              "         -1.43786443e-02, -2.30874798e-01, -6.49958194e-02,\n",
              "          2.34331285e-01, -2.02239541e-01, -2.47839543e-01,\n",
              "          8.36835884e-02,  2.14503484e-01,  2.33473043e-01,\n",
              "          4.41760879e-03,  2.78124524e-03,  2.01249625e-01,\n",
              "          2.16374031e-01, -6.91287230e-02, -5.37035909e-03,\n",
              "          2.95028319e-01,  2.99883422e-01,  5.11100552e-02,\n",
              "         -1.02366272e-01,  6.93156053e-02, -1.51911833e-01,\n",
              "          2.59629521e-01, -2.57661245e-01,  1.83643638e-01,\n",
              "          4.61088560e-04, -2.13903494e-01, -1.43648858e-02],\n",
              "        [-2.10451483e-01,  2.09372276e-01,  6.88249330e-04,\n",
              "          1.91413949e-01,  1.77224935e-01,  2.59850441e-01,\n",
              "         -7.24790103e-03,  3.11242929e-01,  8.49941414e-03,\n",
              "         -6.49280420e-02, -3.04943787e-02,  1.93327780e-01,\n",
              "          2.38121637e-02, -1.18528631e-01,  1.79238175e-01,\n",
              "         -2.20718873e-01,  1.51011367e-01, -2.28214125e-01,\n",
              "          1.44478369e-01,  1.36014050e-01,  2.02591160e-01,\n",
              "         -1.56426126e-01,  2.88747229e-01, -2.06582132e-01,\n",
              "         -1.69588959e-01, -1.67108835e-01, -4.31167993e-02,\n",
              "          1.54540899e-01, -6.35905364e-02, -2.48228293e-01],\n",
              "        [ 1.93509960e-01, -1.96222030e-01, -9.36779310e-02,\n",
              "          5.02529852e-02, -3.07116309e-01, -8.12423653e-02,\n",
              "          1.04810919e-03, -1.09100347e-01,  3.03473299e-01,\n",
              "          1.19251672e-01,  6.22915701e-02,  8.64561455e-03,\n",
              "          9.94602454e-03,  1.99055183e-01,  1.40122786e-01,\n",
              "         -2.26989028e-01, -1.29199279e-01,  2.02155099e-03,\n",
              "         -2.83942072e-01, -1.69562834e-01,  1.76853680e-01,\n",
              "         -1.04862696e-01, -7.84973197e-03,  1.55382561e-01,\n",
              "          1.80801392e-01, -2.66530062e-01, -1.33552940e-01,\n",
              "          9.84010715e-02, -3.67768593e-02, -1.44621256e-01]]),\n",
              " array([[ 0.41716001],\n",
              "        [ 0.27235329],\n",
              "        [ 0.17158911],\n",
              "        [-0.16597693],\n",
              "        [-0.35653203],\n",
              "        [-0.01000175],\n",
              "        [-0.34945897],\n",
              "        [ 0.26932255],\n",
              "        [-0.00925286],\n",
              "        [ 0.21078497],\n",
              "        [ 0.03761513],\n",
              "        [ 0.23900167],\n",
              "        [-0.31186826],\n",
              "        [-0.29009211],\n",
              "        [-0.35794355],\n",
              "        [-0.27695507],\n",
              "        [ 0.3116799 ],\n",
              "        [ 0.00300593],\n",
              "        [ 0.27715432],\n",
              "        [ 0.10046219],\n",
              "        [-0.406372  ],\n",
              "        [ 0.44719112],\n",
              "        [ 0.23937689],\n",
              "        [-0.08676472],\n",
              "        [-0.05162629],\n",
              "        [ 0.04460226],\n",
              "        [ 0.28166839],\n",
              "        [-0.08258834],\n",
              "        [-0.2340415 ],\n",
              "        [ 0.25556307]])]"
            ]
          },
          "metadata": {
            "tags": []
          },
          "execution_count": 23
        }
      ]
    },
    {
      "metadata": {
        "id": "pelCh18Qv36B",
        "colab_type": "code",
        "colab": {
          "base_uri": "https://localhost:8080/",
          "height": 34
        },
        "outputId": "2794d977-aecd-45e3-b6d8-1dd56773e090"
      },
      "cell_type": "code",
      "source": [
        "len(mlp.coefs_[0])"
      ],
      "execution_count": 0,
      "outputs": [
        {
          "output_type": "execute_result",
          "data": {
            "text/plain": [
              "30"
            ]
          },
          "metadata": {
            "tags": []
          },
          "execution_count": 24
        }
      ]
    },
    {
      "metadata": {
        "id": "d0957MfMv67P",
        "colab_type": "code",
        "colab": {
          "base_uri": "https://localhost:8080/",
          "height": 34
        },
        "outputId": "7e9c2baa-e304-4fec-9441-9b0be2518fa3"
      },
      "cell_type": "code",
      "source": [
        "len(mlp.intercepts_[0])"
      ],
      "execution_count": 0,
      "outputs": [
        {
          "output_type": "execute_result",
          "data": {
            "text/plain": [
              "30"
            ]
          },
          "metadata": {
            "tags": []
          },
          "execution_count": 25
        }
      ]
    },
    {
      "metadata": {
        "id": "Qy_8mN4hTpJS",
        "colab_type": "text"
      },
      "cell_type": "markdown",
      "source": [
        "## Experimente a manipulação dos parâmetros da RNA, utilizando o código a seguir:"
      ]
    },
    {
      "metadata": {
        "id": "NW8Qj6bMT-tB",
        "colab_type": "code",
        "colab": {
          "base_uri": "https://localhost:8080/",
          "height": 173
        },
        "outputId": "ad227218-f891-49d5-e94d-7c37d1361f86"
      },
      "cell_type": "code",
      "source": [
        "# Definicao da arquitetura da rede.\n",
        "mlp = MLPClassifier(activation='tanh', alpha=0.0001, batch_size='auto', beta_1=0.9,\n",
        "       beta_2=0.999, early_stopping=False, epsilon=1e-08,\n",
        "       hidden_layer_sizes=(10, 20, 10), learning_rate='constant',\n",
        "       learning_rate_init=0.001, max_iter=200, momentum=0.9,\n",
        "       nesterovs_momentum=True, power_t=0.5, random_state=None,\n",
        "       shuffle=True, solver='adam', tol=0.0001, validation_fraction=0.1,\n",
        "       verbose=False, warm_start=False)\n",
        "\n",
        "# Aprendizado.\n",
        "mlp.fit(X_train,y_train)\n",
        "\n",
        "# Previsao sobre o conjunto de teste.\n",
        "predictions = mlp.predict(X_test)\n",
        "\n",
        "# Impressao da matriz de confunsao.\n",
        "print(confusion_matrix(y_test,predictions))\n",
        "\n",
        "# Impressao dos resultados.\n",
        "print(classification_report(y_test,predictions))"
      ],
      "execution_count": 0,
      "outputs": [
        {
          "output_type": "stream",
          "text": [
            "[[48 21]\n",
            " [ 7 67]]\n",
            "             precision    recall  f1-score   support\n",
            "\n",
            "          0       0.87      0.70      0.77        69\n",
            "          1       0.76      0.91      0.83        74\n",
            "\n",
            "avg / total       0.82      0.80      0.80       143\n",
            "\n"
          ],
          "name": "stdout"
        }
      ]
    }
  ]
}